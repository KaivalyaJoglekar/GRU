{
 "cells": [
  {
   "cell_type": "code",
   "execution_count": 1,
   "id": "4c17edac",
   "metadata": {},
   "outputs": [
    {
     "name": "stdout",
     "output_type": "stream",
     "text": [
      "✅ Libraries imported successfully.\n",
      "TensorFlow Version: 2.20.0\n"
     ]
    }
   ],
   "source": [
    "## Cell 1: Setup and Import Libraries\n",
    "\n",
    "import numpy as np\n",
    "import pandas as pd\n",
    "import tensorflow as tf\n",
    "from tensorflow.keras.preprocessing.text import Tokenizer\n",
    "from tensorflow.keras.preprocessing.sequence import pad_sequences\n",
    "from tensorflow.keras.models import Sequential\n",
    "from tensorflow.keras.layers import Embedding, GRU, Dense, SpatialDropout1D\n",
    "from sklearn.model_selection import train_test_split\n",
    "from sklearn.metrics import classification_report, confusion_matrix\n",
    "import seaborn as sns\n",
    "import matplotlib.pyplot as plt\n",
    "import os # <-- THIS LINE FIXES THE ERROR\n",
    "\n",
    "print(\"✅ Libraries imported successfully.\")\n",
    "print(f\"TensorFlow Version: {tf.__version__}\")"
   ]
  },
  {
   "cell_type": "code",
   "execution_count": 2,
   "id": "89f7ce74",
   "metadata": {},
   "outputs": [
    {
     "name": "stdout",
     "output_type": "stream",
     "text": [
      "✅ Configuration loaded.\n"
     ]
    }
   ],
   "source": [
    "## Cell 2: Configuration and Hyperparameters\n",
    "\n",
    "# --- Dataset File Paths ---\n",
    "# !! Make sure these CSV files are in the same directory as your notebook !!\n",
    "file_paths = {\n",
    "    'csic': 'csic_2010.csv',\n",
    "    'sqli': 'SQL_Injection_Dataset.csv',\n",
    "    'xss': 'XSS_dataset.csv',\n",
    "    'url': 'malicious_urls.csv'\n",
    "}\n",
    "\n",
    "# --- Model Hyperparameters ---\n",
    "# Vocabulary size: The maximum number of unique characters to consider.\n",
    "MAX_FEATURES = 10000\n",
    "# Sequence length: The fixed length for all input sequences. Longer ones are truncated, shorter ones are padded.\n",
    "MAX_LEN = 250\n",
    "# Embedding dimension: The size of the dense vector for each character.\n",
    "EMBEDDING_DIM = 128\n",
    "# GRU units: The number of neurons in the GRU layer, representing the model's memory capacity.\n",
    "GRU_UNITS = 128\n",
    "\n",
    "# --- Training Parameters ---\n",
    "BATCH_SIZE = 256\n",
    "EPOCHS = 5 # Start with 5; you can increase this for potentially better performance.\n",
    "\n",
    "print(\"✅ Configuration loaded.\")"
   ]
  },
  {
   "cell_type": "code",
   "execution_count": 4,
   "id": "5e1ee15f",
   "metadata": {},
   "outputs": [
    {
     "name": "stdout",
     "output_type": "stream",
     "text": [
      "\n",
      "🔄 Loading prepared master dataset from prepared_dataset/master_web_attack_dataset.csv...\n",
      "✅ Master dataset loaded successfully!\n",
      "\n",
      "🔄 Splitting data into training and testing sets FIRST...\n",
      "Raw training samples: 570,914\n",
      "Raw testing samples:  142,729\n",
      "\n",
      "🔄 Preprocessing data: Converting text to numerical sequences...\n",
      "Training tensor shape (X_train): (570914, 250)\n",
      "Training tensor shape (y_train): (570914,)\n",
      "Testing tensor shape (X_test): (142729, 250)\n",
      "Testing tensor shape (y_test): (142729,)\n"
     ]
    }
   ],
   "source": [
    "## Cell 3: Load Data and Split First, Then Preprocess (FIXED - No Data Leakage)\n",
    "\n",
    "# First, try to load the master dataset\n",
    "df_master = None\n",
    "try:\n",
    "    # Try to load the prepared dataset first\n",
    "    master_dataset_path = 'prepared_dataset/master_web_attack_dataset.csv'\n",
    "    if os.path.exists(master_dataset_path):\n",
    "        print(f\"\\n🔄 Loading prepared master dataset from {master_dataset_path}...\")\n",
    "        df_master = pd.read_csv(master_dataset_path)\n",
    "        print(f\"✅ Master dataset loaded successfully!\")\n",
    "    else:\n",
    "        # If prepared dataset doesn't exist, load and combine individual datasets\n",
    "        print(\"\\n🔄 Loading and processing individual datasets...\")\n",
    "        df_csic = pd.read_csv(file_paths['csic'])\n",
    "        df_sqli = pd.read_csv(file_paths['sqli'])\n",
    "        df_xss = pd.read_csv(file_paths['xss'])\n",
    "        df_url = pd.read_csv(file_paths['url'])\n",
    "        print(\"... all datasets loaded successfully.\")\n",
    "\n",
    "        # Standardize CSIC 2010\n",
    "        df1 = df_csic[['content', 'classification']].copy()\n",
    "        df1.rename(columns={'content': 'payload', 'classification': 'label'}, inplace=True)\n",
    "        df1['label'] = df1['label'].apply(lambda x: 1 if str(x).lower() == 'anomalous' else 0)\n",
    "\n",
    "        # Standardize SQL Injection\n",
    "        df2 = df_sqli[['Query', 'Label']].copy()\n",
    "        df2.rename(columns={'Query': 'payload', 'Label': 'label'}, inplace=True)\n",
    "\n",
    "        # Standardize Cross-Site Scripting (XSS)\n",
    "        df3 = df_xss[['Sentence', 'Label']].copy()\n",
    "        df3.rename(columns={'Sentence': 'payload', 'Label': 'label'}, inplace=True)\n",
    "\n",
    "        # Standardize Malicious URLs\n",
    "        df4 = df_url[['url', 'type']].copy()\n",
    "        df4.rename(columns={'url': 'payload', 'type': 'label'}, inplace=True)\n",
    "        df4['label'] = df4['label'].apply(lambda x: 0 if x == 'benign' else 1)\n",
    "\n",
    "        # Combine, Clean, and Shuffle\n",
    "        df_combined = pd.concat([df1, df2, df3, df4], ignore_index=True)\n",
    "        df_combined.dropna(inplace=True)\n",
    "        df_combined = df_combined[df_combined['payload'].astype(str).str.len() > 1]\n",
    "        df_master = df_combined.sample(frac=1, random_state=42).reset_index(drop=True)\n",
    "\n",
    "        print(\"\\n--- ✅ Master Dataset Created Successfully ---\")\n",
    "        \n",
    "        # Save the dataset for future use\n",
    "        os.makedirs('prepared_dataset', exist_ok=True)\n",
    "        df_master.to_csv(master_dataset_path, index=False)\n",
    "        print(f\"\\n💾 Master dataset saved to: '{master_dataset_path}'\")\n",
    "\n",
    "except (FileNotFoundError, KeyError) as e:\n",
    "    print(f\"\\n❌ ERROR during data preparation: {e}\")\n",
    "    print(\"Please check that all CSV files exist and that the column names are correct.\")\n",
    "\n",
    "if df_master is not None and not df_master.empty:\n",
    "    print(\"\\n🔄 Splitting data into training and testing sets FIRST...\")\n",
    "    \n",
    "    # Extract raw payloads and labels from the master dataframe\n",
    "    payloads_raw = df_master['payload'].astype(str).values\n",
    "    labels_raw = df_master['label'].values\n",
    "    \n",
    "    # 1. FIRST: Split the raw data before any preprocessing\n",
    "    X_train_raw, X_test_raw, y_train_raw, y_test_raw = train_test_split(\n",
    "        payloads_raw, labels_raw,\n",
    "        test_size=0.2,  # Use 20% of the data for testing\n",
    "        random_state=42,  # For reproducible results\n",
    "        stratify=labels_raw  # Maintain class distribution\n",
    "    )\n",
    "    \n",
    "    print(f\"Raw training samples: {len(X_train_raw):,}\")\n",
    "    print(f\"Raw testing samples:  {len(X_test_raw):,}\")\n",
    "    \n",
    "    print(\"\\n🔄 Preprocessing data: Converting text to numerical sequences...\")\n",
    "    \n",
    "    # 2. SECOND: Fit tokenizer ONLY on training data to prevent data leakage\n",
    "    tokenizer = Tokenizer(num_words=MAX_FEATURES, char_level=True, oov_token='<OOV>')\n",
    "    tokenizer.fit_on_texts(X_train_raw)  # ← CRITICAL FIX: Only fit on training data\n",
    "    \n",
    "    # 3. Transform both training and testing data using the fitted tokenizer\n",
    "    X_train_seq = tokenizer.texts_to_sequences(X_train_raw)\n",
    "    X_test_seq = tokenizer.texts_to_sequences(X_test_raw)\n",
    "    \n",
    "    # 4. Pad sequences to ensure all have the same length\n",
    "    X_train = pad_sequences(X_train_seq, maxlen=MAX_LEN)\n",
    "    X_test = pad_sequences(X_test_seq, maxlen=MAX_LEN)\n",
    "    \n",
    "    # Convert labels to numpy arrays\n",
    "    y_train = np.asarray(y_train_raw)\n",
    "    y_test = np.asarray(y_test_raw)\n",
    "    \n",
    "    print(f\"Training tensor shape (X_train): {X_train.shape}\")\n",
    "    print(f\"Training tensor shape (y_train): {y_train.shape}\")\n",
    "    print(f\"Testing tensor shape (X_test): {X_test.shape}\")\n",
    "    print(f\"Testing tensor shape (y_test): {y_test.shape}\")\n",
    "    \n",
    "    # Store the raw test data for later use in prediction function\n",
    "    X_test_raw_stored = X_test_raw\n",
    "    \n",
    "else:\n",
    "    print(\"Skipping preprocessing because the master dataframe was not created successfully.\")"
   ]
  },
  {
   "cell_type": "code",
   "execution_count": 5,
   "id": "d1b07c26",
   "metadata": {},
   "outputs": [
    {
     "name": "stdout",
     "output_type": "stream",
     "text": [
      "✅ Train-test split already completed in Cell 3 with proper data leakage prevention.\n",
      "Final training samples: 570,914\n",
      "Final testing samples:  142,729\n"
     ]
    }
   ],
   "source": [
    "## Cell 4: Train-Test Split Already Done (REMOVED - No longer needed)\n",
    "\n",
    "# This cell is no longer needed since we already split the data in Cell 3\n",
    "# The train-test split is now done BEFORE tokenization to prevent data leakage\n",
    "\n",
    "if 'X_train' in locals() and 'X_test' in locals():\n",
    "    print(\"✅ Train-test split already completed in Cell 3 with proper data leakage prevention.\")\n",
    "    print(f\"Final training samples: {len(X_train):,}\")\n",
    "    print(f\"Final testing samples:  {len(X_test):,}\")\n",
    "else:\n",
    "    print(\"⚠️ Data preprocessing not completed yet. Please run Cell 3 first.\")"
   ]
  },
  {
   "cell_type": "code",
   "execution_count": 6,
   "id": "1952f663",
   "metadata": {},
   "outputs": [
    {
     "name": "stdout",
     "output_type": "stream",
     "text": [
      "✅ Data split already completed in Cell 3 with proper data leakage prevention.\n",
      "Training samples: 570,914\n",
      "Testing samples:  142,729\n"
     ]
    }
   ],
   "source": [
    "## Cell 5: Data Split Already Completed (REMOVED - No longer needed)\n",
    "\n",
    "# This cell is no longer needed since we already split the data in Cell 3\n",
    "# The train-test split is now done BEFORE tokenization to prevent data leakage\n",
    "\n",
    "if 'X_train' in locals() and 'X_test' in locals():\n",
    "    print(\"✅ Data split already completed in Cell 3 with proper data leakage prevention.\")\n",
    "    print(f\"Training samples: {len(X_train):,}\")\n",
    "    print(f\"Testing samples:  {len(X_test):,}\")\n",
    "else:\n",
    "    print(\"⚠️ Data preprocessing not completed yet. Please run Cell 3 first.\")"
   ]
  },
  {
   "cell_type": "code",
   "execution_count": 7,
   "id": "03105401",
   "metadata": {},
   "outputs": [
    {
     "name": "stdout",
     "output_type": "stream",
     "text": [
      "\n",
      "🧠 Building the GRU model...\n"
     ]
    },
    {
     "data": {
      "text/html": [
       "<pre style=\"white-space:pre;overflow-x:auto;line-height:normal;font-family:Menlo,'DejaVu Sans Mono',consolas,'Courier New',monospace\"><span style=\"font-weight: bold\">Model: \"GRU_Web_Threat_Detector\"</span>\n",
       "</pre>\n"
      ],
      "text/plain": [
       "\u001b[1mModel: \"GRU_Web_Threat_Detector\"\u001b[0m\n"
      ]
     },
     "metadata": {},
     "output_type": "display_data"
    },
    {
     "data": {
      "text/html": [
       "<pre style=\"white-space:pre;overflow-x:auto;line-height:normal;font-family:Menlo,'DejaVu Sans Mono',consolas,'Courier New',monospace\">┏━━━━━━━━━━━━━━━━━━━━━━━━━━━━━━━━━┳━━━━━━━━━━━━━━━━━━━━━━━━┳━━━━━━━━━━━━━━━┓\n",
       "┃<span style=\"font-weight: bold\"> Layer (type)                    </span>┃<span style=\"font-weight: bold\"> Output Shape           </span>┃<span style=\"font-weight: bold\">       Param # </span>┃\n",
       "┡━━━━━━━━━━━━━━━━━━━━━━━━━━━━━━━━━╇━━━━━━━━━━━━━━━━━━━━━━━━╇━━━━━━━━━━━━━━━┩\n",
       "│ embedding (<span style=\"color: #0087ff; text-decoration-color: #0087ff\">Embedding</span>)           │ (<span style=\"color: #00d7ff; text-decoration-color: #00d7ff\">None</span>, <span style=\"color: #00af00; text-decoration-color: #00af00\">250</span>, <span style=\"color: #00af00; text-decoration-color: #00af00\">128</span>)       │     <span style=\"color: #00af00; text-decoration-color: #00af00\">1,280,000</span> │\n",
       "├─────────────────────────────────┼────────────────────────┼───────────────┤\n",
       "│ spatial_dropout1d               │ (<span style=\"color: #00d7ff; text-decoration-color: #00d7ff\">None</span>, <span style=\"color: #00af00; text-decoration-color: #00af00\">250</span>, <span style=\"color: #00af00; text-decoration-color: #00af00\">128</span>)       │             <span style=\"color: #00af00; text-decoration-color: #00af00\">0</span> │\n",
       "│ (<span style=\"color: #0087ff; text-decoration-color: #0087ff\">SpatialDropout1D</span>)              │                        │               │\n",
       "├─────────────────────────────────┼────────────────────────┼───────────────┤\n",
       "│ gru (<span style=\"color: #0087ff; text-decoration-color: #0087ff\">GRU</span>)                       │ (<span style=\"color: #00d7ff; text-decoration-color: #00d7ff\">None</span>, <span style=\"color: #00af00; text-decoration-color: #00af00\">128</span>)            │        <span style=\"color: #00af00; text-decoration-color: #00af00\">99,072</span> │\n",
       "├─────────────────────────────────┼────────────────────────┼───────────────┤\n",
       "│ dense (<span style=\"color: #0087ff; text-decoration-color: #0087ff\">Dense</span>)                   │ (<span style=\"color: #00d7ff; text-decoration-color: #00d7ff\">None</span>, <span style=\"color: #00af00; text-decoration-color: #00af00\">1</span>)              │           <span style=\"color: #00af00; text-decoration-color: #00af00\">129</span> │\n",
       "└─────────────────────────────────┴────────────────────────┴───────────────┘\n",
       "</pre>\n"
      ],
      "text/plain": [
       "┏━━━━━━━━━━━━━━━━━━━━━━━━━━━━━━━━━┳━━━━━━━━━━━━━━━━━━━━━━━━┳━━━━━━━━━━━━━━━┓\n",
       "┃\u001b[1m \u001b[0m\u001b[1mLayer (type)                   \u001b[0m\u001b[1m \u001b[0m┃\u001b[1m \u001b[0m\u001b[1mOutput Shape          \u001b[0m\u001b[1m \u001b[0m┃\u001b[1m \u001b[0m\u001b[1m      Param #\u001b[0m\u001b[1m \u001b[0m┃\n",
       "┡━━━━━━━━━━━━━━━━━━━━━━━━━━━━━━━━━╇━━━━━━━━━━━━━━━━━━━━━━━━╇━━━━━━━━━━━━━━━┩\n",
       "│ embedding (\u001b[38;5;33mEmbedding\u001b[0m)           │ (\u001b[38;5;45mNone\u001b[0m, \u001b[38;5;34m250\u001b[0m, \u001b[38;5;34m128\u001b[0m)       │     \u001b[38;5;34m1,280,000\u001b[0m │\n",
       "├─────────────────────────────────┼────────────────────────┼───────────────┤\n",
       "│ spatial_dropout1d               │ (\u001b[38;5;45mNone\u001b[0m, \u001b[38;5;34m250\u001b[0m, \u001b[38;5;34m128\u001b[0m)       │             \u001b[38;5;34m0\u001b[0m │\n",
       "│ (\u001b[38;5;33mSpatialDropout1D\u001b[0m)              │                        │               │\n",
       "├─────────────────────────────────┼────────────────────────┼───────────────┤\n",
       "│ gru (\u001b[38;5;33mGRU\u001b[0m)                       │ (\u001b[38;5;45mNone\u001b[0m, \u001b[38;5;34m128\u001b[0m)            │        \u001b[38;5;34m99,072\u001b[0m │\n",
       "├─────────────────────────────────┼────────────────────────┼───────────────┤\n",
       "│ dense (\u001b[38;5;33mDense\u001b[0m)                   │ (\u001b[38;5;45mNone\u001b[0m, \u001b[38;5;34m1\u001b[0m)              │           \u001b[38;5;34m129\u001b[0m │\n",
       "└─────────────────────────────────┴────────────────────────┴───────────────┘\n"
      ]
     },
     "metadata": {},
     "output_type": "display_data"
    },
    {
     "data": {
      "text/html": [
       "<pre style=\"white-space:pre;overflow-x:auto;line-height:normal;font-family:Menlo,'DejaVu Sans Mono',consolas,'Courier New',monospace\"><span style=\"font-weight: bold\"> Total params: </span><span style=\"color: #00af00; text-decoration-color: #00af00\">1,379,201</span> (5.26 MB)\n",
       "</pre>\n"
      ],
      "text/plain": [
       "\u001b[1m Total params: \u001b[0m\u001b[38;5;34m1,379,201\u001b[0m (5.26 MB)\n"
      ]
     },
     "metadata": {},
     "output_type": "display_data"
    },
    {
     "data": {
      "text/html": [
       "<pre style=\"white-space:pre;overflow-x:auto;line-height:normal;font-family:Menlo,'DejaVu Sans Mono',consolas,'Courier New',monospace\"><span style=\"font-weight: bold\"> Trainable params: </span><span style=\"color: #00af00; text-decoration-color: #00af00\">1,379,201</span> (5.26 MB)\n",
       "</pre>\n"
      ],
      "text/plain": [
       "\u001b[1m Trainable params: \u001b[0m\u001b[38;5;34m1,379,201\u001b[0m (5.26 MB)\n"
      ]
     },
     "metadata": {},
     "output_type": "display_data"
    },
    {
     "data": {
      "text/html": [
       "<pre style=\"white-space:pre;overflow-x:auto;line-height:normal;font-family:Menlo,'DejaVu Sans Mono',consolas,'Courier New',monospace\"><span style=\"font-weight: bold\"> Non-trainable params: </span><span style=\"color: #00af00; text-decoration-color: #00af00\">0</span> (0.00 B)\n",
       "</pre>\n"
      ],
      "text/plain": [
       "\u001b[1m Non-trainable params: \u001b[0m\u001b[38;5;34m0\u001b[0m (0.00 B)\n"
      ]
     },
     "metadata": {},
     "output_type": "display_data"
    }
   ],
   "source": [
    "## Cell 6: Build the GRU Model Architecture (Modern Practice)\n",
    "\n",
    "print(\"\\n🧠 Building the GRU model...\")\n",
    "\n",
    "model = Sequential(name=\"GRU_Web_Threat_Detector\")\n",
    "\n",
    "# 1. Define the input layer explicitly (NEW WAY)\n",
    "# This layer tells the model to expect integer sequences of length MAX_LEN.\n",
    "model.add(tf.keras.Input(shape=(MAX_LEN,)))\n",
    "\n",
    "# 2. Add the Embedding Layer (without input_shape)\n",
    "# It automatically infers its input shape from the layer above.\n",
    "model.add(Embedding(input_dim=MAX_FEATURES, output_dim=EMBEDDING_DIM))\n",
    "\n",
    "# 3. Add the rest of the layers as before\n",
    "model.add(SpatialDropout1D(0.4))\n",
    "model.add(GRU(units=GRU_UNITS, dropout=0.4, recurrent_dropout=0.4))\n",
    "model.add(Dense(1, activation='sigmoid'))\n",
    "\n",
    "# Compile the model\n",
    "model.compile(\n",
    "    loss='binary_crossentropy',\n",
    "    optimizer='adam',\n",
    "    metrics=['accuracy', tf.keras.metrics.Precision(), tf.keras.metrics.Recall()]\n",
    ")\n",
    "\n",
    "model.summary()"
   ]
  },
  {
   "cell_type": "code",
   "execution_count": 8,
   "id": "16f4f431",
   "metadata": {},
   "outputs": [
    {
     "name": "stdout",
     "output_type": "stream",
     "text": [
      "\n",
      "🚀 Starting model training...\n",
      "Epoch 1/5\n",
      "\u001b[1m2008/2008\u001b[0m \u001b[32m━━━━━━━━━━━━━━━━━━━━\u001b[0m\u001b[37m\u001b[0m \u001b[1m377s\u001b[0m 187ms/step - accuracy: 0.8995 - loss: 0.2548 - precision: 0.8715 - recall: 0.8257 - val_accuracy: 0.9452 - val_loss: 0.1478 - val_precision: 0.9385 - val_recall: 0.8945\n",
      "Epoch 2/5\n",
      "\u001b[1m2008/2008\u001b[0m \u001b[32m━━━━━━━━━━━━━━━━━━━━\u001b[0m\u001b[37m\u001b[0m \u001b[1m379s\u001b[0m 189ms/step - accuracy: 0.9514 - loss: 0.1363 - precision: 0.9415 - recall: 0.9136 - val_accuracy: 0.9639 - val_loss: 0.1052 - val_precision: 0.9521 - val_recall: 0.9392\n",
      "Epoch 3/5\n",
      "\u001b[1m2008/2008\u001b[0m \u001b[32m━━━━━━━━━━━━━━━━━━━━\u001b[0m\u001b[37m\u001b[0m \u001b[1m361s\u001b[0m 180ms/step - accuracy: 0.9613 - loss: 0.1120 - precision: 0.9558 - recall: 0.9291 - val_accuracy: 0.9691 - val_loss: 0.0910 - val_precision: 0.9627 - val_recall: 0.9442\n",
      "Epoch 4/5\n",
      "\u001b[1m2008/2008\u001b[0m \u001b[32m━━━━━━━━━━━━━━━━━━━━\u001b[0m\u001b[37m\u001b[0m \u001b[1m349s\u001b[0m 174ms/step - accuracy: 0.9667 - loss: 0.0976 - precision: 0.9629 - recall: 0.9381 - val_accuracy: 0.9736 - val_loss: 0.0814 - val_precision: 0.9722 - val_recall: 0.9480\n",
      "Epoch 5/5\n",
      "\u001b[1m2008/2008\u001b[0m \u001b[32m━━━━━━━━━━━━━━━━━━━━\u001b[0m\u001b[37m\u001b[0m \u001b[1m360s\u001b[0m 179ms/step - accuracy: 0.9704 - loss: 0.0889 - precision: 0.9678 - recall: 0.9442 - val_accuracy: 0.9754 - val_loss: 0.0740 - val_precision: 0.9761 - val_recall: 0.9496\n",
      "\n",
      "✅ Training complete.\n"
     ]
    }
   ],
   "source": [
    "## Cell 7: Train the Model\n",
    "\n",
    "print(\"\\n🚀 Starting model training...\")\n",
    "history = model.fit(\n",
    "    X_train, y_train,\n",
    "    epochs=EPOCHS,\n",
    "    batch_size=BATCH_SIZE,\n",
    "    validation_split=0.1,\n",
    "    verbose=1\n",
    ")\n",
    "print(\"\\n✅ Training complete.\")"
   ]
  },
  {
   "cell_type": "code",
   "execution_count": null,
   "id": "adad19ef",
   "metadata": {},
   "outputs": [],
   "source": []
  },
  {
   "cell_type": "code",
   "execution_count": 9,
   "id": "c0a7fb07",
   "metadata": {},
   "outputs": [
    {
     "name": "stdout",
     "output_type": "stream",
     "text": [
      "\n",
      "🧪 Evaluating model on the test set...\n",
      "\n",
      "--- Test Set Performance ---\n",
      "Accuracy:  97.63%\n",
      "Precision: 97.61%\n",
      "Recall:    95.35%\n",
      "Loss:      0.0708\n",
      "\u001b[1m4461/4461\u001b[0m \u001b[32m━━━━━━━━━━━━━━━━━━━━\u001b[0m\u001b[37m\u001b[0m \u001b[1m56s\u001b[0m 13ms/step\n",
      "\n",
      "📊 Classification Report:\n",
      "\n",
      "               precision    recall  f1-score   support\n",
      "\n",
      "   Benign (0)       0.98      0.99      0.98     94363\n",
      "Malicious (1)       0.98      0.95      0.96     48366\n",
      "\n",
      "     accuracy                           0.98    142729\n",
      "    macro avg       0.98      0.97      0.97    142729\n",
      " weighted avg       0.98      0.98      0.98    142729\n",
      "\n"
     ]
    }
   ],
   "source": [
    "## Cell 8: Evaluate Model Performance\n",
    "\n",
    "print(\"\\n🧪 Evaluating model on the test set...\")\n",
    "\n",
    "# Get performance metrics on the unseen test data\n",
    "loss, accuracy, precision, recall = model.evaluate(X_test, y_test, verbose=0)\n",
    "\n",
    "print(f\"\\n--- Test Set Performance ---\")\n",
    "print(f\"Accuracy:  {accuracy*100:.2f}%\")\n",
    "print(f\"Precision: {precision*100:.2f}%\")\n",
    "print(f\"Recall:    {recall*100:.2f}%\")\n",
    "print(f\"Loss:      {loss:.4f}\")\n",
    "\n",
    "# Generate predictions for the classification report\n",
    "y_pred_probs = model.predict(X_test)\n",
    "y_pred = (y_pred_probs > 0.5).astype(int)\n",
    "\n",
    "# Display a detailed classification report\n",
    "print(\"\\n📊 Classification Report:\\n\")\n",
    "print(classification_report(y_test, y_pred, target_names=['Benign (0)', 'Malicious (1)']))"
   ]
  },
  {
   "cell_type": "code",
   "execution_count": 10,
   "id": "0c76037a",
   "metadata": {},
   "outputs": [
    {
     "name": "stdout",
     "output_type": "stream",
     "text": [
      "\n",
      "🤔 Confusion Matrix:\n",
      "\n"
     ]
    },
    {
     "data": {
      "image/png": "[encoded data removed]",
      "text/plain": [
       "<Figure size 800x600 with 2 Axes>"
      ]
     },
     "metadata": {},
     "output_type": "display_data"
    }
   ],
   "source": [
    "## Cell 9: Visualize Results - Confusion Matrix\n",
    "\n",
    "print(\"\\n🤔 Confusion Matrix:\\n\")\n",
    "cm = confusion_matrix(y_test, y_pred)\n",
    "\n",
    "plt.figure(figsize=(8, 6))\n",
    "sns.heatmap(\n",
    "    cm,\n",
    "    annot=True, # Show the numbers in the cells\n",
    "    fmt='d',    # Format numbers as integers\n",
    "    cmap='Blues',\n",
    "    xticklabels=['Benign', 'Malicious'],\n",
    "    yticklabels=['Benign', 'Malicious']\n",
    ")\n",
    "plt.xlabel('Predicted Label')\n",
    "plt.ylabel('True Label')\n",
    "plt.title('Confusion Matrix')\n",
    "plt.show()"
   ]
  },
  {
   "cell_type": "code",
   "execution_count": 11,
   "id": "2437cc1d",
   "metadata": {},
   "outputs": [
    {
     "data": {
      "image/png": "[encoded data removed]",
      "text/plain": [
       "<Figure size 1400x500 with 2 Axes>"
      ]
     },
     "metadata": {},
     "output_type": "display_data"
    }
   ],
   "source": [
    "## Cell 10: Visualize Training History\n",
    "\n",
    "history_dict = history.history\n",
    "acc = history_dict['accuracy']\n",
    "val_acc = history_dict['val_accuracy']\n",
    "loss = history_dict['loss']\n",
    "val_loss = history_dict['val_loss']\n",
    "epochs_range = range(1, len(acc) + 1)\n",
    "\n",
    "plt.figure(figsize=(14, 5))\n",
    "\n",
    "# Plot Accuracy\n",
    "plt.subplot(1, 2, 1)\n",
    "plt.plot(epochs_range, acc, 'bo-', label='Training Accuracy')\n",
    "plt.plot(epochs_range, val_acc, 'ro-', label='Validation Accuracy')\n",
    "plt.title('Training and Validation Accuracy')\n",
    "plt.xlabel('Epochs')\n",
    "plt.ylabel('Accuracy')\n",
    "plt.legend()\n",
    "\n",
    "# Plot Loss\n",
    "plt.subplot(1, 2, 2)\n",
    "plt.plot(epochs_range, loss, 'bo-', label='Training Loss')\n",
    "plt.plot(epochs_range, val_loss, 'ro-', label='Validation Loss')\n",
    "plt.title('Training and Validation Loss')\n",
    "plt.xlabel('Epochs')\n",
    "plt.ylabel('Loss')\n",
    "plt.legend()\n",
    "\n",
    "plt.show()"
   ]
  },
  {
   "cell_type": "code",
   "execution_count": 12,
   "id": "813b67c3",
   "metadata": {},
   "outputs": [
    {
     "name": "stdout",
     "output_type": "stream",
     "text": [
      "\n",
      "🕵️--- Real-Time Threat Detection Test ---\n",
      "\n",
      "Input: '<script>alert('xss attack');</script>'\n",
      "Malicious Probability: 0.9757\n",
      "Verdict: 🚨 THREAT DETECTED 🚨\n",
      "\n",
      "Input: '1' OR '1'='1'; --'\n",
      "Malicious Probability: 0.9999\n",
      "Verdict: 🚨 THREAT DETECTED 🚨\n",
      "\n",
      "Input: 'https://www.google.com/search?q=normal+search'\n",
      "Malicious Probability: 0.9999\n",
      "Verdict: 🚨 THREAT DETECTED 🚨\n",
      "\n",
      "Input: '../../../etc/passwd'\n",
      "Malicious Probability: 0.7985\n",
      "Verdict: 🚨 THREAT DETECTED 🚨\n"
     ]
    }
   ],
   "source": [
    "## Cell 11: Real-Time Prediction Function (UPDATED)\n",
    "\n",
    "def predict_threat(payload_string):\n",
    "    \"\"\"\n",
    "    Takes a raw string, preprocesses it, and predicts if it's a threat.\n",
    "    Uses the same tokenizer that was fitted only on training data.\n",
    "    \"\"\"\n",
    "    # Preprocess the new string using the same tokenizer and padding\n",
    "    seq = tokenizer.texts_to_sequences([payload_string])\n",
    "    padded_seq = pad_sequences(seq, maxlen=MAX_LEN)\n",
    "\n",
    "    # Get the prediction probability from the model\n",
    "    prediction_prob = model.predict(padded_seq, verbose=0)[0][0]\n",
    "\n",
    "    # Determine the result based on a 0.5 threshold\n",
    "    verdict = \"🚨 THREAT DETECTED 🚨\" if prediction_prob > 0.5 else \"✅ BENIGN ✅\"\n",
    "\n",
    "    print(f\"\\nInput: '{payload_string}'\")\n",
    "    print(f\"Malicious Probability: {prediction_prob:.4f}\")\n",
    "    print(f\"Verdict: {verdict}\")\n",
    "\n",
    "# --- Test with new, unseen samples ---\n",
    "print(\"\\n🕵️--- Real-Time Threat Detection Test ---\")\n",
    "predict_threat(\"<script>alert('xss attack');</script>\")\n",
    "predict_threat(\"1' OR '1'='1'; --\")\n",
    "predict_threat(\"https://www.google.com/search?q=normal+search\")\n",
    "predict_threat(\"../../../etc/passwd\")"
   ]
  },
  {
   "cell_type": "code",
   "execution_count": null,
   "id": "58336d09",
   "metadata": {},
   "outputs": [],
   "source": []
  },
  {
   "cell_type": "code",
   "execution_count": 16,
   "id": "d8bc1773",
   "metadata": {},
   "outputs": [
    {
     "name": "stdout",
     "output_type": "stream",
     "text": [
      "\n",
      "--- Analysis Result ---\n",
      "Input Payload: '; ls -la'\n",
      "Malicious Probability: 0.1237\n",
      "\u001b[1;32mVerdict: ✅ SAFE\u001b[0m\n",
      "-----------------------\n"
     ]
    }
   ],
   "source": [
    "## Cell 13: Quick Single Prediction (UPDATED)\n",
    "\n",
    "# Get user input from a prompt\n",
    "test_payload = input(\"Enter the payload or URL to test: \")\n",
    "\n",
    "if test_payload:\n",
    "    # 1. Preprocess the input string using the tokenizer fitted only on training data\n",
    "    seq = tokenizer.texts_to_sequences([test_payload])\n",
    "    padded_seq = pad_sequences(seq, maxlen=MAX_LEN)\n",
    "\n",
    "    # 2. Get the model's prediction\n",
    "    prediction_prob = model.predict(padded_seq, verbose=0)[0][0]\n",
    "\n",
    "    # 3. Determine the verdict\n",
    "    if prediction_prob > 0.5:\n",
    "        verdict = \"🚨 THREAT DETECTED\"\n",
    "        color = \"\\033[1;31m\"  # Red\n",
    "    else:\n",
    "        verdict = \"✅ SAFE\"\n",
    "        color = \"\\033[1;32m\"  # Green\n",
    "\n",
    "    # 4. Display the result\n",
    "    print(\"\\n--- Analysis Result ---\")\n",
    "    print(f\"Input Payload: '{test_payload}'\")\n",
    "    print(f\"Malicious Probability: {prediction_prob:.4f}\")\n",
    "    print(f\"{color}Verdict: {verdict}\\033[0m\")\n",
    "    print(\"-----------------------\")\n",
    "else:\n",
    "    print(\"No input provided. Please enter a payload to analyze.\")"
   ]
  },
  {
   "cell_type": "code",
   "execution_count": null,
   "id": "2bde651f",
   "metadata": {},
   "outputs": [],
   "source": []
  },
  {
   "cell_type": "code",
   "execution_count": null,
   "id": "a84bc0dc",
   "metadata": {},
   "outputs": [],
   "source": []
  }
 ],
 "metadata": {
  "kernelspec": {
   "display_name": ".venv",
   "language": "python",
   "name": "python3"
  },
  "language_info": {
   "codemirror_mode": {
    "name": "ipython",
    "version": 3
   },
   "file_extension": ".py",
   "mimetype": "text/x-python",
   "name": "python",
   "nbconvert_exporter": "python",
   "pygments_lexer": "ipython3",
   "version": "3.13.5"
  }
 },
 "nbformat": 4,
 "nbformat_minor": 5
}
